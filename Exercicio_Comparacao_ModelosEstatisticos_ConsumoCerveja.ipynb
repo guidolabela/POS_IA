{
  "nbformat": 4,
  "nbformat_minor": 0,
  "metadata": {
    "colab": {
      "provenance": [],
      "authorship_tag": "ABX9TyMcEpEs43IySiyAPftB2+Ow",
      "include_colab_link": true
    },
    "kernelspec": {
      "name": "python3",
      "display_name": "Python 3"
    },
    "language_info": {
      "name": "python"
    }
  },
  "cells": [
    {
      "cell_type": "markdown",
      "metadata": {
        "id": "view-in-github",
        "colab_type": "text"
      },
      "source": [
        "<a href=\"https://colab.research.google.com/github/guidolabela/POS_IA/blob/Modelos_Estatisticos/Exercicio_Comparacao_ModelosEstatisticos_ConsumoCerveja.ipynb\" target=\"_parent\"><img src=\"https://colab.research.google.com/assets/colab-badge.svg\" alt=\"Open In Colab\"/></a>"
      ]
    },
    {
      "cell_type": "code",
      "execution_count": 1,
      "metadata": {
        "id": "vK5Ew75PWNHi"
      },
      "outputs": [],
      "source": [
        "import pandas as pd\n",
        "import numpy as np\n",
        "import sklearn\n",
        "import seaborn as sns\n",
        "from sklearn.model_selection import train_test_split\n",
        "import matplotlib.pyplot as plt\n",
        "import statsmodels.api as sm"
      ]
    },
    {
      "cell_type": "code",
      "source": [
        "import os\n",
        "import matplotlib.pyplot as plt\n",
        "from statsmodels.graphics.gofplots import qqplot\n",
        "from statsmodels.graphics.tsaplots import plot_acf\n",
        "import warnings\n",
        "warnings.filterwarnings('ignore')"
      ],
      "metadata": {
        "id": "QEfhlf1ZWdZc"
      },
      "execution_count": 2,
      "outputs": []
    },
    {
      "cell_type": "code",
      "source": [
        "from google.colab import drive\n",
        "drive.mount('/content/drive')\n",
        "cerveja = pd.read_csv('/content/drive/MyDrive/Colab Notebooks/POS_IA/Modelos Estatisticos/Consumo_cerveja_1.csv')"
      ],
      "metadata": {
        "colab": {
          "base_uri": "https://localhost:8080/"
        },
        "id": "_CLSejt5Wn1e",
        "outputId": "03a6d898-8e46-4a8b-ae0a-4821f9e6c77f"
      },
      "execution_count": 3,
      "outputs": [
        {
          "output_type": "stream",
          "name": "stdout",
          "text": [
            "Mounted at /content/drive\n"
          ]
        }
      ]
    },
    {
      "cell_type": "code",
      "source": [
        "cerveja.head()"
      ],
      "metadata": {
        "colab": {
          "base_uri": "https://localhost:8080/",
          "height": 206
        },
        "id": "6-qmMj81W0eg",
        "outputId": "179e3474-e41e-44eb-facc-8fa190dbca41"
      },
      "execution_count": 4,
      "outputs": [
        {
          "output_type": "execute_result",
          "data": {
            "text/plain": [
              "         Data  Temperatura_Media  Temperatura_Minima  Temperatura_Maxima  \\\n",
              "0  01/01/2015              27.30                23.9                32.5   \n",
              "1  02/01/2015              27.02                24.5                33.5   \n",
              "2  03/01/2015              24.82                22.4                29.9   \n",
              "3  04/01/2015              23.98                21.5                28.6   \n",
              "4  05/01/2015              23.82                21.0                28.3   \n",
              "\n",
              "   Precipitacao  Final_de_Semana  Consumo  \n",
              "0           0.0                0   25.461  \n",
              "1           0.0                0   28.972  \n",
              "2           0.0                1   30.814  \n",
              "3           1.2                1   29.799  \n",
              "4           0.0                0   28.900  "
            ],
            "text/html": [
              "\n",
              "  <div id=\"df-007a31a3-27d7-49e1-a5a2-37e98dc3e458\" class=\"colab-df-container\">\n",
              "    <div>\n",
              "<style scoped>\n",
              "    .dataframe tbody tr th:only-of-type {\n",
              "        vertical-align: middle;\n",
              "    }\n",
              "\n",
              "    .dataframe tbody tr th {\n",
              "        vertical-align: top;\n",
              "    }\n",
              "\n",
              "    .dataframe thead th {\n",
              "        text-align: right;\n",
              "    }\n",
              "</style>\n",
              "<table border=\"1\" class=\"dataframe\">\n",
              "  <thead>\n",
              "    <tr style=\"text-align: right;\">\n",
              "      <th></th>\n",
              "      <th>Data</th>\n",
              "      <th>Temperatura_Media</th>\n",
              "      <th>Temperatura_Minima</th>\n",
              "      <th>Temperatura_Maxima</th>\n",
              "      <th>Precipitacao</th>\n",
              "      <th>Final_de_Semana</th>\n",
              "      <th>Consumo</th>\n",
              "    </tr>\n",
              "  </thead>\n",
              "  <tbody>\n",
              "    <tr>\n",
              "      <th>0</th>\n",
              "      <td>01/01/2015</td>\n",
              "      <td>27.30</td>\n",
              "      <td>23.9</td>\n",
              "      <td>32.5</td>\n",
              "      <td>0.0</td>\n",
              "      <td>0</td>\n",
              "      <td>25.461</td>\n",
              "    </tr>\n",
              "    <tr>\n",
              "      <th>1</th>\n",
              "      <td>02/01/2015</td>\n",
              "      <td>27.02</td>\n",
              "      <td>24.5</td>\n",
              "      <td>33.5</td>\n",
              "      <td>0.0</td>\n",
              "      <td>0</td>\n",
              "      <td>28.972</td>\n",
              "    </tr>\n",
              "    <tr>\n",
              "      <th>2</th>\n",
              "      <td>03/01/2015</td>\n",
              "      <td>24.82</td>\n",
              "      <td>22.4</td>\n",
              "      <td>29.9</td>\n",
              "      <td>0.0</td>\n",
              "      <td>1</td>\n",
              "      <td>30.814</td>\n",
              "    </tr>\n",
              "    <tr>\n",
              "      <th>3</th>\n",
              "      <td>04/01/2015</td>\n",
              "      <td>23.98</td>\n",
              "      <td>21.5</td>\n",
              "      <td>28.6</td>\n",
              "      <td>1.2</td>\n",
              "      <td>1</td>\n",
              "      <td>29.799</td>\n",
              "    </tr>\n",
              "    <tr>\n",
              "      <th>4</th>\n",
              "      <td>05/01/2015</td>\n",
              "      <td>23.82</td>\n",
              "      <td>21.0</td>\n",
              "      <td>28.3</td>\n",
              "      <td>0.0</td>\n",
              "      <td>0</td>\n",
              "      <td>28.900</td>\n",
              "    </tr>\n",
              "  </tbody>\n",
              "</table>\n",
              "</div>\n",
              "    <div class=\"colab-df-buttons\">\n",
              "\n",
              "  <div class=\"colab-df-container\">\n",
              "    <button class=\"colab-df-convert\" onclick=\"convertToInteractive('df-007a31a3-27d7-49e1-a5a2-37e98dc3e458')\"\n",
              "            title=\"Convert this dataframe to an interactive table.\"\n",
              "            style=\"display:none;\">\n",
              "\n",
              "  <svg xmlns=\"http://www.w3.org/2000/svg\" height=\"24px\" viewBox=\"0 -960 960 960\">\n",
              "    <path d=\"M120-120v-720h720v720H120Zm60-500h600v-160H180v160Zm220 220h160v-160H400v160Zm0 220h160v-160H400v160ZM180-400h160v-160H180v160Zm440 0h160v-160H620v160ZM180-180h160v-160H180v160Zm440 0h160v-160H620v160Z\"/>\n",
              "  </svg>\n",
              "    </button>\n",
              "\n",
              "  <style>\n",
              "    .colab-df-container {\n",
              "      display:flex;\n",
              "      gap: 12px;\n",
              "    }\n",
              "\n",
              "    .colab-df-convert {\n",
              "      background-color: #E8F0FE;\n",
              "      border: none;\n",
              "      border-radius: 50%;\n",
              "      cursor: pointer;\n",
              "      display: none;\n",
              "      fill: #1967D2;\n",
              "      height: 32px;\n",
              "      padding: 0 0 0 0;\n",
              "      width: 32px;\n",
              "    }\n",
              "\n",
              "    .colab-df-convert:hover {\n",
              "      background-color: #E2EBFA;\n",
              "      box-shadow: 0px 1px 2px rgba(60, 64, 67, 0.3), 0px 1px 3px 1px rgba(60, 64, 67, 0.15);\n",
              "      fill: #174EA6;\n",
              "    }\n",
              "\n",
              "    .colab-df-buttons div {\n",
              "      margin-bottom: 4px;\n",
              "    }\n",
              "\n",
              "    [theme=dark] .colab-df-convert {\n",
              "      background-color: #3B4455;\n",
              "      fill: #D2E3FC;\n",
              "    }\n",
              "\n",
              "    [theme=dark] .colab-df-convert:hover {\n",
              "      background-color: #434B5C;\n",
              "      box-shadow: 0px 1px 3px 1px rgba(0, 0, 0, 0.15);\n",
              "      filter: drop-shadow(0px 1px 2px rgba(0, 0, 0, 0.3));\n",
              "      fill: #FFFFFF;\n",
              "    }\n",
              "  </style>\n",
              "\n",
              "    <script>\n",
              "      const buttonEl =\n",
              "        document.querySelector('#df-007a31a3-27d7-49e1-a5a2-37e98dc3e458 button.colab-df-convert');\n",
              "      buttonEl.style.display =\n",
              "        google.colab.kernel.accessAllowed ? 'block' : 'none';\n",
              "\n",
              "      async function convertToInteractive(key) {\n",
              "        const element = document.querySelector('#df-007a31a3-27d7-49e1-a5a2-37e98dc3e458');\n",
              "        const dataTable =\n",
              "          await google.colab.kernel.invokeFunction('convertToInteractive',\n",
              "                                                    [key], {});\n",
              "        if (!dataTable) return;\n",
              "\n",
              "        const docLinkHtml = 'Like what you see? Visit the ' +\n",
              "          '<a target=\"_blank\" href=https://colab.research.google.com/notebooks/data_table.ipynb>data table notebook</a>'\n",
              "          + ' to learn more about interactive tables.';\n",
              "        element.innerHTML = '';\n",
              "        dataTable['output_type'] = 'display_data';\n",
              "        await google.colab.output.renderOutput(dataTable, element);\n",
              "        const docLink = document.createElement('div');\n",
              "        docLink.innerHTML = docLinkHtml;\n",
              "        element.appendChild(docLink);\n",
              "      }\n",
              "    </script>\n",
              "  </div>\n",
              "\n",
              "\n",
              "    <div id=\"df-bf1dec76-09d0-4ddd-931c-2ca31eaf2d70\">\n",
              "      <button class=\"colab-df-quickchart\" onclick=\"quickchart('df-bf1dec76-09d0-4ddd-931c-2ca31eaf2d70')\"\n",
              "                title=\"Suggest charts\"\n",
              "                style=\"display:none;\">\n",
              "\n",
              "<svg xmlns=\"http://www.w3.org/2000/svg\" height=\"24px\"viewBox=\"0 0 24 24\"\n",
              "     width=\"24px\">\n",
              "    <g>\n",
              "        <path d=\"M19 3H5c-1.1 0-2 .9-2 2v14c0 1.1.9 2 2 2h14c1.1 0 2-.9 2-2V5c0-1.1-.9-2-2-2zM9 17H7v-7h2v7zm4 0h-2V7h2v10zm4 0h-2v-4h2v4z\"/>\n",
              "    </g>\n",
              "</svg>\n",
              "      </button>\n",
              "\n",
              "<style>\n",
              "  .colab-df-quickchart {\n",
              "      --bg-color: #E8F0FE;\n",
              "      --fill-color: #1967D2;\n",
              "      --hover-bg-color: #E2EBFA;\n",
              "      --hover-fill-color: #174EA6;\n",
              "      --disabled-fill-color: #AAA;\n",
              "      --disabled-bg-color: #DDD;\n",
              "  }\n",
              "\n",
              "  [theme=dark] .colab-df-quickchart {\n",
              "      --bg-color: #3B4455;\n",
              "      --fill-color: #D2E3FC;\n",
              "      --hover-bg-color: #434B5C;\n",
              "      --hover-fill-color: #FFFFFF;\n",
              "      --disabled-bg-color: #3B4455;\n",
              "      --disabled-fill-color: #666;\n",
              "  }\n",
              "\n",
              "  .colab-df-quickchart {\n",
              "    background-color: var(--bg-color);\n",
              "    border: none;\n",
              "    border-radius: 50%;\n",
              "    cursor: pointer;\n",
              "    display: none;\n",
              "    fill: var(--fill-color);\n",
              "    height: 32px;\n",
              "    padding: 0;\n",
              "    width: 32px;\n",
              "  }\n",
              "\n",
              "  .colab-df-quickchart:hover {\n",
              "    background-color: var(--hover-bg-color);\n",
              "    box-shadow: 0 1px 2px rgba(60, 64, 67, 0.3), 0 1px 3px 1px rgba(60, 64, 67, 0.15);\n",
              "    fill: var(--button-hover-fill-color);\n",
              "  }\n",
              "\n",
              "  .colab-df-quickchart-complete:disabled,\n",
              "  .colab-df-quickchart-complete:disabled:hover {\n",
              "    background-color: var(--disabled-bg-color);\n",
              "    fill: var(--disabled-fill-color);\n",
              "    box-shadow: none;\n",
              "  }\n",
              "\n",
              "  .colab-df-spinner {\n",
              "    border: 2px solid var(--fill-color);\n",
              "    border-color: transparent;\n",
              "    border-bottom-color: var(--fill-color);\n",
              "    animation:\n",
              "      spin 1s steps(1) infinite;\n",
              "  }\n",
              "\n",
              "  @keyframes spin {\n",
              "    0% {\n",
              "      border-color: transparent;\n",
              "      border-bottom-color: var(--fill-color);\n",
              "      border-left-color: var(--fill-color);\n",
              "    }\n",
              "    20% {\n",
              "      border-color: transparent;\n",
              "      border-left-color: var(--fill-color);\n",
              "      border-top-color: var(--fill-color);\n",
              "    }\n",
              "    30% {\n",
              "      border-color: transparent;\n",
              "      border-left-color: var(--fill-color);\n",
              "      border-top-color: var(--fill-color);\n",
              "      border-right-color: var(--fill-color);\n",
              "    }\n",
              "    40% {\n",
              "      border-color: transparent;\n",
              "      border-right-color: var(--fill-color);\n",
              "      border-top-color: var(--fill-color);\n",
              "    }\n",
              "    60% {\n",
              "      border-color: transparent;\n",
              "      border-right-color: var(--fill-color);\n",
              "    }\n",
              "    80% {\n",
              "      border-color: transparent;\n",
              "      border-right-color: var(--fill-color);\n",
              "      border-bottom-color: var(--fill-color);\n",
              "    }\n",
              "    90% {\n",
              "      border-color: transparent;\n",
              "      border-bottom-color: var(--fill-color);\n",
              "    }\n",
              "  }\n",
              "</style>\n",
              "\n",
              "      <script>\n",
              "        async function quickchart(key) {\n",
              "          const quickchartButtonEl =\n",
              "            document.querySelector('#' + key + ' button');\n",
              "          quickchartButtonEl.disabled = true;  // To prevent multiple clicks.\n",
              "          quickchartButtonEl.classList.add('colab-df-spinner');\n",
              "          try {\n",
              "            const charts = await google.colab.kernel.invokeFunction(\n",
              "                'suggestCharts', [key], {});\n",
              "          } catch (error) {\n",
              "            console.error('Error during call to suggestCharts:', error);\n",
              "          }\n",
              "          quickchartButtonEl.classList.remove('colab-df-spinner');\n",
              "          quickchartButtonEl.classList.add('colab-df-quickchart-complete');\n",
              "        }\n",
              "        (() => {\n",
              "          let quickchartButtonEl =\n",
              "            document.querySelector('#df-bf1dec76-09d0-4ddd-931c-2ca31eaf2d70 button');\n",
              "          quickchartButtonEl.style.display =\n",
              "            google.colab.kernel.accessAllowed ? 'block' : 'none';\n",
              "        })();\n",
              "      </script>\n",
              "    </div>\n",
              "\n",
              "    </div>\n",
              "  </div>\n"
            ],
            "application/vnd.google.colaboratory.intrinsic+json": {
              "type": "dataframe",
              "variable_name": "cerveja",
              "summary": "{\n  \"name\": \"cerveja\",\n  \"rows\": 365,\n  \"fields\": [\n    {\n      \"column\": \"Data\",\n      \"properties\": {\n        \"dtype\": \"string\",\n        \"num_unique_values\": 365,\n        \"samples\": [\n          \"13/07/2015\",\n          \"03/02/2015\",\n          \"16/01/2015\"\n        ],\n        \"semantic_type\": \"\",\n        \"description\": \"\"\n      }\n    },\n    {\n      \"column\": \"Temperatura_Media\",\n      \"properties\": {\n        \"dtype\": \"number\",\n        \"std\": 3.1801076653013385,\n        \"min\": 12.9,\n        \"max\": 28.86,\n        \"num_unique_values\": 277,\n        \"samples\": [\n          24.16,\n          18.56,\n          21.52\n        ],\n        \"semantic_type\": \"\",\n        \"description\": \"\"\n      }\n    },\n    {\n      \"column\": \"Temperatura_Minima\",\n      \"properties\": {\n        \"dtype\": \"number\",\n        \"std\": 2.826185113212543,\n        \"min\": 10.6,\n        \"max\": 24.5,\n        \"num_unique_values\": 110,\n        \"samples\": [\n          12.6,\n          21.4,\n          21.0\n        ],\n        \"semantic_type\": \"\",\n        \"description\": \"\"\n      }\n    },\n    {\n      \"column\": \"Temperatura_Maxima\",\n      \"properties\": {\n        \"dtype\": \"number\",\n        \"std\": 4.317365799702632,\n        \"min\": 14.5,\n        \"max\": 36.5,\n        \"num_unique_values\": 151,\n        \"samples\": [\n          22.0,\n          29.4,\n          21.0\n        ],\n        \"semantic_type\": \"\",\n        \"description\": \"\"\n      }\n    },\n    {\n      \"column\": \"Precipitacao\",\n      \"properties\": {\n        \"dtype\": \"number\",\n        \"std\": 12.417843866967416,\n        \"min\": 0.0,\n        \"max\": 94.8,\n        \"num_unique_values\": 93,\n        \"samples\": [\n          7.4,\n          16.7,\n          1.8\n        ],\n        \"semantic_type\": \"\",\n        \"description\": \"\"\n      }\n    },\n    {\n      \"column\": \"Final_de_Semana\",\n      \"properties\": {\n        \"dtype\": \"number\",\n        \"std\": 0,\n        \"min\": 0,\n        \"max\": 1,\n        \"num_unique_values\": 2,\n        \"samples\": [\n          1,\n          0\n        ],\n        \"semantic_type\": \"\",\n        \"description\": \"\"\n      }\n    },\n    {\n      \"column\": \"Consumo\",\n      \"properties\": {\n        \"dtype\": \"number\",\n        \"std\": 4.399142703321964,\n        \"min\": 14.343,\n        \"max\": 37.937,\n        \"num_unique_values\": 359,\n        \"samples\": [\n          25.479,\n          26.389\n        ],\n        \"semantic_type\": \"\",\n        \"description\": \"\"\n      }\n    }\n  ]\n}"
            }
          },
          "metadata": {},
          "execution_count": 4
        }
      ]
    },
    {
      "cell_type": "code",
      "source": [
        "cerveja.shape #verifica periodo de amostra de dados"
      ],
      "metadata": {
        "colab": {
          "base_uri": "https://localhost:8080/"
        },
        "id": "GyZLAK_gW4J6",
        "outputId": "6e62cbd0-382c-4a66-cfa2-86417dc67865"
      },
      "execution_count": 5,
      "outputs": [
        {
          "output_type": "execute_result",
          "data": {
            "text/plain": [
              "(365, 7)"
            ]
          },
          "metadata": {},
          "execution_count": 5
        }
      ]
    },
    {
      "cell_type": "code",
      "source": [
        "#separando as variaveis numericas\n",
        "cerv_numericas = cerveja.select_dtypes(include='number')\n",
        "# Separating features (X) and target (y) from the loaded dataframe\n",
        "X = cerveja.drop(['Consumo','Data'],axis=1) #Retirando consumo e data\n",
        "y = cerveja['Consumo']\n",
        "feature_names = X.columns.tolist() # Get the feature names from the dataframe columns"
      ],
      "metadata": {
        "id": "9nv6jXVaXB-Y"
      },
      "execution_count": 16,
      "outputs": []
    },
    {
      "cell_type": "code",
      "metadata": {
        "colab": {
          "base_uri": "https://localhost:8080/"
        },
        "id": "7bc02fdb",
        "outputId": "a7436d3a-b1f9-4e25-d52e-61452608e54f"
      },
      "source": [
        "# Check for missing values in the DataFrame\n",
        "print(\"Missing values per column:\")\n",
        "print(cerveja.isnull().sum())"
      ],
      "execution_count": 17,
      "outputs": [
        {
          "output_type": "stream",
          "name": "stdout",
          "text": [
            "Missing values per column:\n",
            "Data                  0\n",
            "Temperatura_Media     0\n",
            "Temperatura_Minima    0\n",
            "Temperatura_Maxima    0\n",
            "Precipitacao          0\n",
            "Final_de_Semana       0\n",
            "Consumo               0\n",
            "dtype: int64\n"
          ]
        }
      ]
    },
    {
      "cell_type": "code",
      "source": [
        "cerveja.columns #nome das variaveis"
      ],
      "metadata": {
        "colab": {
          "base_uri": "https://localhost:8080/"
        },
        "id": "C6nM8OImZ2hg",
        "outputId": "fb1e6b22-ba75-45b8-c37b-49a2e4add4ab"
      },
      "execution_count": 18,
      "outputs": [
        {
          "output_type": "execute_result",
          "data": {
            "text/plain": [
              "Index(['Data', 'Temperatura_Media', 'Temperatura_Minima', 'Temperatura_Maxima',\n",
              "       'Precipitacao', 'Final_de_Semana', 'Consumo'],\n",
              "      dtype='object')"
            ]
          },
          "metadata": {},
          "execution_count": 18
        }
      ]
    },
    {
      "cell_type": "code",
      "source": [
        "results = []"
      ],
      "metadata": {
        "id": "QFxAD1GBbGHW"
      },
      "execution_count": 23,
      "outputs": []
    },
    {
      "cell_type": "code",
      "source": [
        "lm1 = sm.OLS.from_formula(\"Consumo ~ Temperatura_Media\", data=cerveja)\n",
        "model_1 = lm1.fit()\n",
        "print(\"Análise do Modelo 1:\")\n",
        "print(model_1.summary())\n",
        "print(\"=\" * 80)"
      ],
      "metadata": {
        "colab": {
          "base_uri": "https://localhost:8080/"
        },
        "id": "OakwPen7bk9r",
        "outputId": "9569fda2-e847-446e-e747-8a8790b3aaa6"
      },
      "execution_count": 24,
      "outputs": [
        {
          "output_type": "stream",
          "name": "stdout",
          "text": [
            "Análise do Modelo 1:\n",
            "                            OLS Regression Results                            \n",
            "==============================================================================\n",
            "Dep. Variable:                Consumo   R-squared:                       0.330\n",
            "Model:                            OLS   Adj. R-squared:                  0.328\n",
            "Method:                 Least Squares   F-statistic:                     178.9\n",
            "Date:                Sat, 09 Aug 2025   Prob (F-statistic):           1.87e-33\n",
            "Time:                        15:26:09   Log-Likelihood:                -984.99\n",
            "No. Observations:                 365   AIC:                             1974.\n",
            "Df Residuals:                     363   BIC:                             1982.\n",
            "Df Model:                           1                                         \n",
            "Covariance Type:            nonrobust                                         \n",
            "=====================================================================================\n",
            "                        coef    std err          t      P>|t|      [0.025      0.975]\n",
            "-------------------------------------------------------------------------------------\n",
            "Intercept             8.5289      1.275      6.687      0.000       6.021      11.037\n",
            "Temperatura_Media     0.7949      0.059     13.377      0.000       0.678       0.912\n",
            "==============================================================================\n",
            "Omnibus:                       11.300   Durbin-Watson:                   1.623\n",
            "Prob(Omnibus):                  0.004   Jarque-Bera (JB):                9.673\n",
            "Skew:                           0.324   Prob(JB):                      0.00793\n",
            "Kurtosis:                       2.534   Cond. No.                         145.\n",
            "==============================================================================\n",
            "\n",
            "Notes:\n",
            "[1] Standard Errors assume that the covariance matrix of the errors is correctly specified.\n",
            "================================================================================\n"
          ]
        }
      ]
    },
    {
      "cell_type": "code",
      "source": [
        "results.append({\n",
        "    'Modelo': 'Modelo 1',\n",
        "    'MAE': np.mean(np.abs(y - model_1.predict())),\n",
        "    'MSE': np.mean((y - model_1.predict())**2),\n",
        "    'AIC': model_1.aic,\n",
        "    'BIC': model_1.bic,\n",
        "    'R²': model_1.rsquared\n",
        "})"
      ],
      "metadata": {
        "id": "NT3PfE6zcHMA"
      },
      "execution_count": 25,
      "outputs": []
    },
    {
      "cell_type": "code",
      "source": [
        "lm2 = sm.OLS.from_formula(\"Consumo ~ Temperatura_Media+Temperatura_Maxima\", data=cerveja)\n",
        "model_2 = lm2.fit()\n",
        "print(\"Análise do Modelo 2:\")\n",
        "print(model_2.summary())\n",
        "print(\"=\" * 80)"
      ],
      "metadata": {
        "colab": {
          "base_uri": "https://localhost:8080/"
        },
        "id": "-r-MuZLRb48g",
        "outputId": "e30be394-795b-494f-99f8-10f136cc1cf2"
      },
      "execution_count": 26,
      "outputs": [
        {
          "output_type": "stream",
          "name": "stdout",
          "text": [
            "Análise do Modelo 2:\n",
            "                            OLS Regression Results                            \n",
            "==============================================================================\n",
            "Dep. Variable:                Consumo   R-squared:                       0.415\n",
            "Model:                            OLS   Adj. R-squared:                  0.412\n",
            "Method:                 Least Squares   F-statistic:                     128.5\n",
            "Date:                Sat, 09 Aug 2025   Prob (F-statistic):           6.60e-43\n",
            "Time:                        15:26:19   Log-Likelihood:                -960.20\n",
            "No. Observations:                 365   AIC:                             1926.\n",
            "Df Residuals:                     362   BIC:                             1938.\n",
            "Df Model:                           2                                         \n",
            "Covariance Type:            nonrobust                                         \n",
            "======================================================================================\n",
            "                         coef    std err          t      P>|t|      [0.025      0.975]\n",
            "--------------------------------------------------------------------------------------\n",
            "Intercept              8.5079      1.193      7.130      0.000       6.161      10.855\n",
            "Temperatura_Media     -0.1696      0.144     -1.177      0.240      -0.453       0.114\n",
            "Temperatura_Maxima     0.7701      0.106      7.258      0.000       0.561       0.979\n",
            "==============================================================================\n",
            "Omnibus:                       14.568   Durbin-Watson:                   1.693\n",
            "Prob(Omnibus):                  0.001   Jarque-Bera (JB):               12.457\n",
            "Skew:                           0.377   Prob(JB):                      0.00197\n",
            "Kurtosis:                       2.499   Cond. No.                         233.\n",
            "==============================================================================\n",
            "\n",
            "Notes:\n",
            "[1] Standard Errors assume that the covariance matrix of the errors is correctly specified.\n",
            "================================================================================\n"
          ]
        }
      ]
    },
    {
      "cell_type": "code",
      "source": [
        "results.append({\n",
        "    'Modelo': 'Modelo 2:',\n",
        "    'MAE': np.mean(np.abs(y - model_2.predict())),\n",
        "    'MSE': np.mean((y - model_2.predict())**2),\n",
        "    'AIC': model_2.aic,\n",
        "    'BIC': model_2.bic,\n",
        "    'R²': model_2.rsquared\n",
        "})"
      ],
      "metadata": {
        "id": "ooRiQMaXcSMl"
      },
      "execution_count": 27,
      "outputs": []
    },
    {
      "cell_type": "code",
      "source": [
        "lm3 = sm.OLS.from_formula(\"Consumo ~ Temperatura_Media+Temperatura_Maxima+Final_de_Semana\", data=cerveja)\n",
        "model_3 = lm3.fit()\n",
        "print(\"Análise do Modelo 3:\")\n",
        "print(model_3.summary())\n",
        "print(\"=\" * 80)"
      ],
      "metadata": {
        "colab": {
          "base_uri": "https://localhost:8080/"
        },
        "id": "FQN5AOXqcY4i",
        "outputId": "5eaf0b04-ba1a-404d-eee9-06e5490d992c"
      },
      "execution_count": 28,
      "outputs": [
        {
          "output_type": "stream",
          "name": "stdout",
          "text": [
            "Análise do Modelo 3:\n",
            "                            OLS Regression Results                            \n",
            "==============================================================================\n",
            "Dep. Variable:                Consumo   R-squared:                       0.697\n",
            "Model:                            OLS   Adj. R-squared:                  0.695\n",
            "Method:                 Least Squares   F-statistic:                     277.0\n",
            "Date:                Sat, 09 Aug 2025   Prob (F-statistic):           2.89e-93\n",
            "Time:                        15:27:25   Log-Likelihood:                -840.12\n",
            "No. Observations:                 365   AIC:                             1688.\n",
            "Df Residuals:                     361   BIC:                             1704.\n",
            "Df Model:                           3                                         \n",
            "Covariance Type:            nonrobust                                         \n",
            "======================================================================================\n",
            "                         coef    std err          t      P>|t|      [0.025      0.975]\n",
            "--------------------------------------------------------------------------------------\n",
            "Intercept              6.2409      0.869      7.184      0.000       4.532       7.949\n",
            "Temperatura_Media     -0.1021      0.104     -0.983      0.326      -0.306       0.102\n",
            "Temperatura_Maxima     0.7460      0.076      9.755      0.000       0.596       0.896\n",
            "Final_de_Semana        5.1749      0.282     18.332      0.000       4.620       5.730\n",
            "==============================================================================\n",
            "Omnibus:                        0.324   Durbin-Watson:                   1.888\n",
            "Prob(Omnibus):                  0.851   Jarque-Bera (JB):                0.450\n",
            "Skew:                          -0.036   Prob(JB):                        0.799\n",
            "Kurtosis:                       2.844   Cond. No.                         236.\n",
            "==============================================================================\n",
            "\n",
            "Notes:\n",
            "[1] Standard Errors assume that the covariance matrix of the errors is correctly specified.\n",
            "================================================================================\n"
          ]
        }
      ]
    },
    {
      "cell_type": "code",
      "source": [
        "results.append({\n",
        "    'Modelo': 'Modelo 3:',\n",
        "    'MAE': np.mean(np.abs(y - model_3.predict())),\n",
        "    'MSE': np.mean((y - model_3.predict())**2),\n",
        "    'AIC': model_3.aic,\n",
        "    'BIC': model_3.bic,\n",
        "    'R²': model_3.rsquared\n",
        "})"
      ],
      "metadata": {
        "id": "klboAu-pctXq"
      },
      "execution_count": 29,
      "outputs": []
    },
    {
      "cell_type": "code",
      "source": [
        "# Criar um DataFrame com os resultados\n",
        "results_df = pd.DataFrame(results)\n",
        "\n",
        "# Imprimir a tabela de resultados\n",
        "print(results_df)"
      ],
      "metadata": {
        "colab": {
          "base_uri": "https://localhost:8080/"
        },
        "id": "fB-7cedlc1iq",
        "outputId": "378bf8e3-bb5b-4322-869f-8e55b6dbf078"
      },
      "execution_count": 30,
      "outputs": [
        {
          "output_type": "stream",
          "name": "stdout",
          "text": [
            "      Modelo       MAE        MSE          AIC          BIC        R²\n",
            "0   Modelo 1  2.955285  12.927109  1973.979323  1981.779118  0.330182\n",
            "1  Modelo 2:  2.760684  11.285038  1926.394527  1938.094219  0.415266\n",
            "2  Modelo 3:  1.999759   5.844535  1688.235180  1703.834769  0.697166\n"
          ]
        }
      ]
    },
    {
      "cell_type": "code",
      "source": [
        "lm4 = sm.OLS.from_formula(\"Consumo ~ Temperatura_Maxima+Final_de_Semana\", data=cerveja)\n",
        "model_4 = lm4.fit()\n",
        "print(\"Análise do Modelo 4:\")\n",
        "print(model_4.summary())\n",
        "print(\"=\" * 80)"
      ],
      "metadata": {
        "colab": {
          "base_uri": "https://localhost:8080/"
        },
        "id": "xcjfZa0vdCtj",
        "outputId": "f37a917d-f8f8-45c1-c1e3-f1fd2ef4a5e0"
      },
      "execution_count": 31,
      "outputs": [
        {
          "output_type": "stream",
          "name": "stdout",
          "text": [
            "Análise do Modelo 4:\n",
            "                            OLS Regression Results                            \n",
            "==============================================================================\n",
            "Dep. Variable:                Consumo   R-squared:                       0.696\n",
            "Model:                            OLS   Adj. R-squared:                  0.695\n",
            "Method:                 Least Squares   F-statistic:                     415.1\n",
            "Date:                Sat, 09 Aug 2025   Prob (F-statistic):           2.03e-94\n",
            "Time:                        15:30:29   Log-Likelihood:                -840.61\n",
            "No. Observations:                 365   AIC:                             1687.\n",
            "Df Residuals:                     362   BIC:                             1699.\n",
            "Df Model:                           2                                         \n",
            "Covariance Type:            nonrobust                                         \n",
            "======================================================================================\n",
            "                         coef    std err          t      P>|t|      [0.025      0.975]\n",
            "--------------------------------------------------------------------------------------\n",
            "Intercept              5.9161      0.803      7.364      0.000       4.336       7.496\n",
            "Temperatura_Maxima     0.6767      0.030     22.912      0.000       0.619       0.735\n",
            "Final_de_Semana        5.1847      0.282     18.379      0.000       4.630       5.739\n",
            "==============================================================================\n",
            "Omnibus:                        0.419   Durbin-Watson:                   1.887\n",
            "Prob(Omnibus):                  0.811   Jarque-Bera (JB):                0.545\n",
            "Skew:                          -0.040   Prob(JB):                        0.762\n",
            "Kurtosis:                       2.829   Cond. No.                         171.\n",
            "==============================================================================\n",
            "\n",
            "Notes:\n",
            "[1] Standard Errors assume that the covariance matrix of the errors is correctly specified.\n",
            "================================================================================\n"
          ]
        }
      ]
    },
    {
      "cell_type": "code",
      "source": [
        "results.append({\n",
        "    'Modelo': 'Modelo 4:',\n",
        "    'MAE': np.mean(np.abs(y - model_4.predict())),\n",
        "    'MSE': np.mean((y - model_4.predict())**2),\n",
        "    'AIC': model_4.aic,\n",
        "    'BIC': model_4.bic,\n",
        "    'R²': model_4.rsquared\n",
        "})"
      ],
      "metadata": {
        "id": "wBRRuujBdKkA"
      },
      "execution_count": 32,
      "outputs": []
    },
    {
      "cell_type": "code",
      "source": [
        "# Criar um DataFrame com os resultados\n",
        "results_df = pd.DataFrame(results)\n",
        "\n",
        "# Imprimir a tabela de resultados\n",
        "print(results_df)"
      ],
      "metadata": {
        "colab": {
          "base_uri": "https://localhost:8080/"
        },
        "id": "CJMsfp1EdUae",
        "outputId": "f513da75-2058-4dd2-9246-08407359d1df"
      },
      "execution_count": 34,
      "outputs": [
        {
          "output_type": "stream",
          "name": "stdout",
          "text": [
            "      Modelo       MAE        MSE          AIC          BIC        R²\n",
            "0   Modelo 1  2.955285  12.927109  1973.979323  1981.779118  0.330182\n",
            "1  Modelo 2:  2.760684  11.285038  1926.394527  1938.094219  0.415266\n",
            "2  Modelo 3:  1.999759   5.844535  1688.235180  1703.834769  0.697166\n",
            "3  Modelo 4:  2.009240   5.860173  1687.210523  1698.910215  0.696355\n"
          ]
        }
      ]
    },
    {
      "cell_type": "markdown",
      "source": [
        "O Modelo 4 atende muito bem. Apesar de alguns valores superiores ao modelo 3"
      ],
      "metadata": {
        "id": "frvUObjBeSMQ"
      }
    }
  ]
}